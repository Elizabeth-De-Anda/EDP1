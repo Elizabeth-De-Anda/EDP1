{
  "nbformat": 4,
  "nbformat_minor": 0,
  "metadata": {
    "colab": {
      "provenance": [],
      "authorship_tag": "ABX9TyPgHWKJmLnfB9Im0kJg4iBU",
      "include_colab_link": true
    },
    "kernelspec": {
      "name": "python3",
      "display_name": "Python 3"
    },
    "language_info": {
      "name": "python"
    }
  },
  "cells": [
    {
      "cell_type": "markdown",
      "metadata": {
        "id": "view-in-github",
        "colab_type": "text"
      },
      "source": [
        "<a href=\"https://colab.research.google.com/github/Elizabeth-De-Anda/EDP1/blob/main/Ejercicio.ipynb\" target=\"_parent\"><img src=\"https://colab.research.google.com/assets/colab-badge.svg\" alt=\"Open In Colab\"/></a>"
      ]
    },
    {
      "cell_type": "markdown",
      "source": [
        "### Usamos sympy para resolver la EDP\n"
      ],
      "metadata": {
        "id": "8Yw2EGEJe_hy"
      }
    },
    {
      "cell_type": "markdown",
      "source": [
        "$$ \\xi = - ( B + \\sqrt{B^{2} - 4*A*C} *x + 2*A*y ) $$"
      ],
      "metadata": {
        "id": "dWHk4BMOfHNr"
      }
    },
    {
      "cell_type": "markdown",
      "source": [
        "$$ \\eta = - ( B - \\sqrt{B^{2} - 4*A*C} *x + 2*A*y ) $$\n"
      ],
      "metadata": {
        "id": "sgNQXNL8fNwj"
      }
    },
    {
      "cell_type": "markdown",
      "source": [
        "$$ u_{xx} - 3*u_{xy} - 10*u_{yy} = 0 $$\n"
      ],
      "metadata": {
        "id": "zzHwp_U0fV5U"
      }
    },
    {
      "cell_type": "code",
      "source": [
        "import sympy as sp\n",
        "\n",
        "def C_edp(A, B, C) :\n",
        "\n",
        "    # a) Calculamos el valor de la raiz para ver que tipo es\n",
        "\n",
        "    I = B**2 - 4*A*C\n",
        "\n",
        "    if I > 0:\n",
        "      tipo = \"Hiperbólica\"\n",
        "    elif I == 0:\n",
        "      tipo = \"Parabólica\"\n",
        "    else:\n",
        "      tipo = \"Elíptica\"\n",
        "\n",
        "    print(f\"La EDP es deL tipo: {tipo}\")\n",
        "\n",
        "      # b) usamos transformación lineal para llevar a su forma canónica\n",
        "    if tipo == \"Hiperbólica\" :\n",
        "        x, y = sp.symbols('x y')\n",
        "        xi = sp.symbols('xi')\n",
        "        eta = sp.symbols('eta')\n",
        "\n",
        "        # Calcular las raíces\n",
        "        R1 = (-B + sp.sqrt(I))/(2*A)\n",
        "        R2 = (-B - sp.sqrt(I))/(2*A)\n",
        "\n",
        "        # Definir las nuevas variables\n",
        "        xi_n = y - R1*x\n",
        "        eta_n = y - R2*x\n",
        "\n",
        "        print(\"\\nTransformación lineal para forma canónica:\")\n",
        "        print(f\"ξ = {sp.simplify(xi_n)}\")\n",
        "        print(f\"η = {sp.simplify(eta_n)}\")\n",
        "\n",
        "        # c)  Devuelva la EDP en su forma canónica.\n",
        "\n",
        "# Forma canónica para EDP hiperbólica\n",
        "        print(\"\\nForma canónica: u_ξη = 0\")\n",
        "\n",
        "        return tipo, (xi_n, eta_n), \"u_ξη = 0\"\n",
        "    else:\n",
        "        return tipo, None, None\n",
        "\n",
        "# Ejemplo con la EDP dada: u_xx - 3*u_xy - 10*u_yy = 0\n",
        "A = 1\n",
        "B = -3\n",
        "C = -10\n",
        "\n",
        "tipo, transformacion, forma_canonica = C_edp(A, B, C)"
      ],
      "metadata": {
        "colab": {
          "base_uri": "https://localhost:8080/"
        },
        "id": "npvYyieqfDyL",
        "outputId": "c000e0b7-7b16-4d6e-c905-032f52f844ec"
      },
      "execution_count": 32,
      "outputs": [
        {
          "output_type": "stream",
          "name": "stdout",
          "text": [
            "La EDP es deL tipo: Hiperbólica\n",
            "\n",
            "Transformación lineal para forma canónica:\n",
            "ξ = -5*x + y\n",
            "η = 2*x + y\n",
            "\n",
            "Forma canónica: u_ξη = 0\n"
          ]
        }
      ]
    },
    {
      "cell_type": "markdown",
      "source": [],
      "metadata": {
        "id": "Ig1ZR0-Ahcek"
      }
    }
  ]
}