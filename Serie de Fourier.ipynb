{
  "nbformat": 4,
  "nbformat_minor": 0,
  "metadata": {
    "colab": {
      "provenance": [],
      "authorship_tag": "ABX9TyPue3JtibjTeg0Noq9Glayl",
      "include_colab_link": true
    },
    "kernelspec": {
      "name": "python3",
      "display_name": "Python 3"
    },
    "language_info": {
      "name": "python"
    }
  },
  "cells": [
    {
      "cell_type": "markdown",
      "metadata": {
        "id": "view-in-github",
        "colab_type": "text"
      },
      "source": [
        "<a href=\"https://colab.research.google.com/github/Elizabeth-De-Anda/EDP1/blob/main/Serie%20de%20Fourier.ipynb\" target=\"_parent\"><img src=\"https://colab.research.google.com/assets/colab-badge.svg\" alt=\"Open In Colab\"/></a>"
      ]
    },
    {
      "cell_type": "markdown",
      "source": [
        "La función a gráficar es $f(x)=\\left\\{\\begin{array}{c}0 &,&-2\\leq x<0 \\\\ 2-x &,& 0 \\leq x \\leq 2\\end{array}\\right\\}$\n",
        "\n",
        "> Añadir blockquote\n",
        "\n"
      ],
      "metadata": {
        "id": "64yJILKF5ae0"
      }
    },
    {
      "cell_type": "markdown",
      "source": [
        "La serie de Fourier para esa funcion es : $f(x) = \\dfrac{1}{2} + \\sum_{n=1}^{\\infty} -\\dfrac{2}{nπ} (-1)^{n} cos(\\frac{nπx}{2})$"
      ],
      "metadata": {
        "id": "E1sptTpl81cA"
      }
    },
    {
      "cell_type": "code",
      "source": [
        "from pylab import *"
      ],
      "metadata": {
        "id": "3gpMldrK9nMP"
      },
      "execution_count": 2,
      "outputs": []
    },
    {
      "cell_type": "code",
      "source": [
        "def recta(x):\n",
        "  y = zeros(len(x))\n",
        "  for i in range(len(x)):\n",
        "    y[i] = x[i]\n",
        "  return y"
      ],
      "metadata": {
        "id": "JQzfkUf2_nFO"
      },
      "execution_count": 3,
      "outputs": []
    },
    {
      "cell_type": "code",
      "source": [],
      "metadata": {
        "id": "PUVKlxFEACL_"
      },
      "execution_count": null,
      "outputs": []
    },
    {
      "cell_type": "code",
      "source": [],
      "metadata": {
        "id": "vt5-JlVkACMp"
      },
      "execution_count": null,
      "outputs": []
    }
  ]
}